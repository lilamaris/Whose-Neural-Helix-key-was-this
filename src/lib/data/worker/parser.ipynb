{
 "cells": [
  {
   "cell_type": "markdown",
   "metadata": {},
   "source": [
    "Initializer"
   ]
  },
  {
   "cell_type": "code",
   "execution_count": 1,
   "metadata": {},
   "outputs": [],
   "source": [
    "import jsonlines\n",
    "import json\n",
    "import os\n",
    "\n",
    "FORMAT = \"jsonl\"\n",
    "I = \"./input\"\n",
    "O = \"./output\"\n"
   ]
  },
  {
   "cell_type": "code",
   "execution_count": 2,
   "metadata": {},
   "outputs": [],
   "source": [
    "def read_doll_jsonl(path):\n",
    "    path = f\"{path}.{FORMAT}\"\n",
    "    raw = []\n",
    "    with jsonlines.open(path) as f:\n",
    "        for j in f.iter():\n",
    "            raw.append(j)\n",
    "    return raw\n",
    "\n",
    "def write_doll_json2stringify(data, path, remove: bool = True, is_jsonl: bool = True):\n",
    "    import os\n",
    "    path = f\"{path}.{FORMAT}\"\n",
    "    if os.path.exists(path):\n",
    "        remove and os.remove(path)\n",
    "    with open(path, \"w+\", encoding=\"utf-8\") as f:\n",
    "        if is_jsonl:\n",
    "            for j in data:\n",
    "                json.dump(j, f, ensure_ascii=False)\n",
    "                f.write(\"\\n\")\n",
    "        else:\n",
    "            json.dump(data, f, ensure_ascii=False)"
   ]
  },
  {
   "cell_type": "code",
   "execution_count": 3,
   "metadata": {},
   "outputs": [],
   "source": [
    "raw = read_doll_jsonl(\"./dolls\")\n",
    "raw.sort(key=lambda x:x[\"name\"])\n",
    "did = [j[\"id\"] for j in raw]\n",
    "dname = [j[\"name\"] for j in raw]\n",
    "id2name = {k: v for k, v in zip(did, dname)}\n",
    "name2id = {v: k for k, v in zip(did, dname)}"
   ]
  },
  {
   "cell_type": "code",
   "execution_count": 4,
   "metadata": {},
   "outputs": [],
   "source": [
    "write_doll_json2stringify([id2name], O)"
   ]
  },
  {
   "cell_type": "code",
   "execution_count": 3,
   "metadata": {},
   "outputs": [
    {
     "ename": "NameError",
     "evalue": "name 'read_doll_jsonl' is not defined",
     "output_type": "error",
     "traceback": [
      "\u001b[1;31m---------------------------------------------------------------------------\u001b[0m",
      "\u001b[1;31mNameError\u001b[0m                                 Traceback (most recent call last)",
      "Cell \u001b[1;32mIn[3], line 1\u001b[0m\n\u001b[1;32m----> 1\u001b[0m raw \u001b[38;5;241m=\u001b[39m \u001b[43mread_doll_jsonl\u001b[49m(I)\n\u001b[0;32m      3\u001b[0m result \u001b[38;5;241m=\u001b[39m []\n\u001b[0;32m      4\u001b[0m \u001b[38;5;28;01mfor\u001b[39;00m j \u001b[38;5;129;01min\u001b[39;00m raw:\n",
      "\u001b[1;31mNameError\u001b[0m: name 'read_doll_jsonl' is not defined"
     ]
    }
   ],
   "source": [
    "raw = read_doll_jsonl(I)\n",
    "\n",
    "result = []\n",
    "for j in raw:\n",
    "    ids = [name2id[k] for k in j[\"neural_helix_keys\"]]\n",
    "    result.append({\n",
    "        \"id\": j[\"id\"],\n",
    "        \"neural_helix_keys\": ids\n",
    "    })\n",
    "\n",
    "write_doll_json2stringify(result, O)"
   ]
  },
  {
   "cell_type": "code",
   "execution_count": 53,
   "metadata": {},
   "outputs": [],
   "source": [
    "KEY = \"release\"\n",
    "raw = read_doll_jsonl(I)\n",
    "\n",
    "result = []\n",
    "for j in raw:\n",
    "    if j[KEY] == \"cn\":\n",
    "        j[KEY] = [\"cn\"]\n",
    "    else:\n",
    "        j[KEY] = [\"cn\", \"ko\"]\n",
    "\n",
    "    result.append(j)\n",
    "    # if j[\"release\"] == \"ko\":\n",
    "    #     result.append(j)\n",
    "    #     continue\n",
    "\n",
    "    # special = {k: v[\"name\"].replace(\"(\", \"\\n(\", 1) for k, v in j[KEY][\"special\"].items()}\n",
    "    # unique = {k: v[\"name\"].replace(\"(\", \"\\n(\", 1) for k, v in j[KEY][\"unique\"].items()}\n",
    "    \n",
    "    # for key, value in special.items():\n",
    "    #     j[KEY][\"special\"][key][\"name\"] = value\n",
    "    \n",
    "    # for key, value in unique.items():\n",
    "    #     j[KEY][\"unique\"][key][\"name\"] = value\n",
    "\n",
    "    # result.append(j)\n",
    "\n",
    "write_doll_json2stringify(result, O)\n"
   ]
  },
  {
   "cell_type": "markdown",
   "metadata": {},
   "source": [
    "Recommend key"
   ]
  },
  {
   "cell_type": "code",
   "execution_count": 27,
   "metadata": {},
   "outputs": [
    {
     "name": "stdout",
     "output_type": "stream",
     "text": [
      "{'id': 'jiangyu', 'neural_helix_keys': ['daiyan', 'ullrid', 'qiongjiu', 'tololo', 'lenna'], 'status': {'crit_damage': 3, 'crit_rate': 3, 'attack_bonus': 3}}\n",
      "{'id': 'qiongjiu', 'neural_helix_keys': ['belka', 'ullrid', 'krolik', 'sharkry'], 'status': {'crit_damage': 3, 'crit_rate': 3, 'attack_bonus': 3}}\n",
      "{'id': 'groza', 'neural_helix_keys': ['springfield', 'suomi', 'sabrina'], 'status': {'defense_bonus': 3, 'health_bonus': 3, 'attack_bonus': 3}}\n",
      "{'id': 'nagant', 'neural_helix_keys': ['ullrid', 'belka', 'vepley', 'faye', 'littara'], 'status': {'crit_damage': 3, 'crit_rate': 3, 'attack_bonus': 3}}\n",
      "{'id': 'nemesis', 'neural_helix_keys': ['ullrid', 'belka', 'mosin-nagant', 'littara'], 'status': {'crit_damage': 3, 'crit_rate': 3, 'attack_bonus': 3}}\n",
      "{'id': 'nikketa', 'neural_helix_keys': ['ullrid', 'belka', 'vepley', 'dushevnaya'], 'status': {'crit_damage': 3, 'crit_rate': 3, 'attack_bonus': 3}}\n",
      "{'id': 'daiyan', 'neural_helix_keys': ['belka', 'faye', 'vepley', 'ullrid'], 'status': {'crit_damage': 3, 'crit_rate': 3, 'attack_bonus': 3}}\n",
      "{'id': 'dushevnaya', 'neural_helix_keys': ['ullrid', 'belka', 'vepley', 'daiyan', 'zhaohui', 'jiangyu', 'peritya', 'sharkry', 'lotta', 'littara', 'nemesis'], 'status': {'crit_damage': 3, 'crit_rate': 3, 'attack_bonus': 3}}\n",
      "{'id': 'lenna', 'neural_helix_keys': ['belka', 'ullrid', 'mechty'], 'status': {'crit_damage': 3, 'crit_rate': 3, 'attack_bonus': 3}}\n",
      "{'id': 'robella', 'neural_helix_keys': ['qiongjiu', 'ullrid', 'belka', 'vepley', 'jiangyu', 'sharkry', 'lotta'], 'status': {'crit_damage': 3, 'crit_rate': 3, 'attack_bonus': 3}}\n",
      "{'id': 'lotta', 'neural_helix_keys': ['ullrid', 'belka', 'vepley', 'daiyan', 'zhaohui', 'jiangyu', 'peritya'], 'status': {'crit_damage': 3, 'crit_rate': 3, 'attack_bonus': 3}}\n",
      "{'id': 'leva', 'neural_helix_keys': ['ullrid', 'belka', 'vepley', 'dushevnaya', 'jiangyu'], 'status': {'crit_damage': 3, 'crit_rate': 3, 'attack_bonus': 3}}\n",
      "{'id': 'littara', 'neural_helix_keys': ['ullrid', 'belka', 'peritya'], 'status': {'crit_damage': 3, 'crit_rate': 3, 'attack_bonus': 3}}\n",
      "{'id': 'makiatto', 'neural_helix_keys': ['belka', 'qiongjiu', 'mosin-nagant', 'ullrid', 'nemesis'], 'status': {'crit_damage': 3, 'crit_rate': 3, 'attack_bonus': 3}}\n",
      "{'id': 'mosin-nagant', 'neural_helix_keys': ['belka', 'ullrid', 'daiyan'], 'status': {'crit_damage': 3, 'crit_rate': 3, 'attack_bonus': 3}}\n",
      "{'id': 'mechty', 'neural_helix_keys': ['ullrid', 'belka', 'vepley', 'littara'], 'status': {'crit_damage': 3, 'crit_rate': 3, 'attack_bonus': 3}}\n",
      "{'id': 'vepley', 'neural_helix_keys': ['belka', 'faye', 'peritya', 'ullrid', 'lotta'], 'status': {'crit_damage': 3, 'crit_rate': 3, 'attack_bonus': 3}}\n",
      "{'id': 'vector', 'neural_helix_keys': ['peritya', 'krolik'], 'status': {'crit_damage': 3, 'crit_rate': 3, 'attack_bonus': 3}}\n",
      "{'id': 'belka', 'neural_helix_keys': ['zhaohui', 'ullrid', 'vepley', 'sharkry'], 'status': {'crit_damage': 3, 'crit_rate': 3, 'attack_bonus': 3}}\n",
      "{'id': 'sabrina', 'neural_helix_keys': ['suomi', 'nagant', 'groza'], 'status': {'defense_bonus': 3, 'health_bonus': 3, 'attack_bonus': 3}}\n",
      "{'id': 'sharkry', 'neural_helix_keys': ['belka', 'ullrid', 'krolik'], 'status': {'crit_damage': 3, 'crit_rate': 3, 'attack_bonus': 3}}\n",
      "{'id': 'centaureissi', 'neural_helix_keys': ['ksenia', 'cheeta', 'colphne'], 'status': {'defense_bonus': 3, 'health_bonus': 3, 'attack_bonus': 3}}\n",
      "{'id': 'suomi', 'neural_helix_keys': ['sabrina', 'makiatto'], 'status': {'defense_bonus': 3, 'health_bonus': 3, 'attack_bonus': 3}}\n",
      "{'id': 'springfield', 'neural_helix_keys': ['suomi', 'cheeta', 'colphne'], 'status': {'defense_bonus': 3, 'health_bonus': 3, 'attack_bonus': 3}}\n",
      "{'id': 'andoris', 'neural_helix_keys': ['suomi', 'sabrina'], 'status': {'defense_bonus': 3, 'health_bonus': 3}}\n",
      "{'id': 'ullrid', 'neural_helix_keys': ['belka', 'faye', 'vepley'], 'status': {'crit_damage': 3, 'crit_rate': 3, 'attack_bonus': 3}}\n",
      "{'id': 'yoohee', 'neural_helix_keys': ['ullrid', 'vepley', 'faye', 'tololo'], 'status': {'crit_damage': 3, 'crit_rate': 3, 'attack_bonus': 3}}\n",
      "{'id': 'zhaohui', 'neural_helix_keys': ['belka', 'ullrid', 'vepley', 'nagant'], 'status': {'crit_damage': 3, 'crit_rate': 3, 'attack_bonus': 3}}\n",
      "{'id': 'qiuhua', 'neural_helix_keys': ['ullrid', 'belka', 'krolik'], 'status': {'crit_damage': 3, 'crit_rate': 3, 'attack_bonus': 3}}\n",
      "{'id': 'cheeta', 'neural_helix_keys': ['centaureissi', 'ksenia', 'colphne'], 'status': {'crit_damage': 3, 'crit_rate': 3, 'attack_bonus': 3}}\n",
      "{'id': 'krolik', 'neural_helix_keys': ['ullrid', 'belka', 'vepley'], 'status': {'crit_damage': 3, 'crit_rate': 3, 'attack_bonus': 3}}\n",
      "{'id': 'colphne', 'neural_helix_keys': ['cheeta'], 'status': {'crit_damage': 3, 'crit_rate': 3, 'attack_bonus': 3}}\n",
      "{'id': 'ksenia', 'neural_helix_keys': ['centaureissi', 'cheeta', 'colphne'], 'status': {'crit_damage': 3, 'crit_rate': 3, 'attack_bonus': 3}}\n",
      "{'id': 'klukai', 'neural_helix_keys': ['belka', 'tololo', 'peritya', 'ullrid', 'dushevnaya', 'vepley', 'sharkry'], 'status': {'crit_damage': 3, 'crit_rate': 3, 'attack_bonus': 3}}\n",
      "{'id': 'tololo', 'neural_helix_keys': ['ullrid', 'belka', 'vepley', 'daiyan', 'sharkry', 'nagant'], 'status': {'crit_damage': 3, 'crit_rate': 3, 'attack_bonus': 3}}\n",
      "{'id': 'papasha', 'neural_helix_keys': [], 'status': {'crit_damage': 3, 'crit_rate': 3, 'attack_bonus': 3}}\n",
      "{'id': 'peri', 'neural_helix_keys': ['tololo', 'sharkry', 'krolik'], 'status': {'crit_damage': 3, 'health_bonus': 3, 'attack_bonus': 3}}\n",
      "{'id': 'peritya', 'neural_helix_keys': ['qiongjiu', 'ullrid', 'vepley', 'nagant'], 'status': {'crit_damage': 3, 'crit_rate': 3, 'attack_bonus': 3}}\n",
      "{'id': 'faye', 'neural_helix_keys': ['belka', 'ullrid', 'vepley', 'littara'], 'status': {'crit_damage': 3, 'crit_rate': 3, 'attack_bonus': 3}}\n",
      "[{'id': 'jiangyu', 'neural_helix_keys': ['daiyan', 'ullrid', 'qiongjiu', 'tololo', 'lenna'], 'status': {'crit_damage': 3, 'crit_rate': 3, 'attack_bonus': 3}}, {'id': 'qiongjiu', 'neural_helix_keys': ['belka', 'ullrid', 'krolik', 'sharkry'], 'status': {'crit_damage': 3, 'crit_rate': 3, 'attack_bonus': 3}}, {'id': 'groza', 'neural_helix_keys': ['springfield', 'suomi', 'sabrina'], 'status': {'defense_bonus': 3, 'health_bonus': 3, 'attack_bonus': 3}}, {'id': 'nagant', 'neural_helix_keys': ['ullrid', 'belka', 'vepley', 'faye', 'littara'], 'status': {'crit_damage': 3, 'crit_rate': 3, 'attack_bonus': 3}}, {'id': 'nemesis', 'neural_helix_keys': ['ullrid', 'belka', 'mosin-nagant', 'littara'], 'status': {'crit_damage': 3, 'crit_rate': 3, 'attack_bonus': 3}}, {'id': 'nikketa', 'neural_helix_keys': ['ullrid', 'belka', 'vepley', 'dushevnaya'], 'status': {'crit_damage': 3, 'crit_rate': 3, 'attack_bonus': 3}}, {'id': 'daiyan', 'neural_helix_keys': ['belka', 'faye', 'vepley', 'ullrid'], 'status': {'crit_damage': 3, 'crit_rate': 3, 'attack_bonus': 3}}, {'id': 'dushevnaya', 'neural_helix_keys': ['ullrid', 'belka', 'vepley', 'daiyan', 'zhaohui', 'jiangyu', 'peritya', 'sharkry', 'lotta', 'littara', 'nemesis'], 'status': {'crit_damage': 3, 'crit_rate': 3, 'attack_bonus': 3}}, {'id': 'lenna', 'neural_helix_keys': ['belka', 'ullrid', 'mechty'], 'status': {'crit_damage': 3, 'crit_rate': 3, 'attack_bonus': 3}}, {'id': 'robella', 'neural_helix_keys': ['qiongjiu', 'ullrid', 'belka', 'vepley', 'jiangyu', 'sharkry', 'lotta'], 'status': {'crit_damage': 3, 'crit_rate': 3, 'attack_bonus': 3}}, {'id': 'lotta', 'neural_helix_keys': ['ullrid', 'belka', 'vepley', 'daiyan', 'zhaohui', 'jiangyu', 'peritya'], 'status': {'crit_damage': 3, 'crit_rate': 3, 'attack_bonus': 3}}, {'id': 'leva', 'neural_helix_keys': ['ullrid', 'belka', 'vepley', 'dushevnaya', 'jiangyu'], 'status': {'crit_damage': 3, 'crit_rate': 3, 'attack_bonus': 3}}, {'id': 'littara', 'neural_helix_keys': ['ullrid', 'belka', 'peritya'], 'status': {'crit_damage': 3, 'crit_rate': 3, 'attack_bonus': 3}}, {'id': 'makiatto', 'neural_helix_keys': ['belka', 'qiongjiu', 'mosin-nagant', 'ullrid', 'nemesis'], 'status': {'crit_damage': 3, 'crit_rate': 3, 'attack_bonus': 3}}, {'id': 'mosin-nagant', 'neural_helix_keys': ['belka', 'ullrid', 'daiyan'], 'status': {'crit_damage': 3, 'crit_rate': 3, 'attack_bonus': 3}}, {'id': 'mechty', 'neural_helix_keys': ['ullrid', 'belka', 'vepley', 'littara'], 'status': {'crit_damage': 3, 'crit_rate': 3, 'attack_bonus': 3}}, {'id': 'vepley', 'neural_helix_keys': ['belka', 'faye', 'peritya', 'ullrid', 'lotta'], 'status': {'crit_damage': 3, 'crit_rate': 3, 'attack_bonus': 3}}, {'id': 'vector', 'neural_helix_keys': ['peritya', 'krolik'], 'status': {'crit_damage': 3, 'crit_rate': 3, 'attack_bonus': 3}}, {'id': 'belka', 'neural_helix_keys': ['zhaohui', 'ullrid', 'vepley', 'sharkry'], 'status': {'crit_damage': 3, 'crit_rate': 3, 'attack_bonus': 3}}, {'id': 'sabrina', 'neural_helix_keys': ['suomi', 'nagant', 'groza'], 'status': {'defense_bonus': 3, 'health_bonus': 3, 'attack_bonus': 3}}, {'id': 'sharkry', 'neural_helix_keys': ['belka', 'ullrid', 'krolik'], 'status': {'crit_damage': 3, 'crit_rate': 3, 'attack_bonus': 3}}, {'id': 'centaureissi', 'neural_helix_keys': ['ksenia', 'cheeta', 'colphne'], 'status': {'defense_bonus': 3, 'health_bonus': 3, 'attack_bonus': 3}}, {'id': 'suomi', 'neural_helix_keys': ['sabrina', 'makiatto'], 'status': {'defense_bonus': 3, 'health_bonus': 3, 'attack_bonus': 3}}, {'id': 'springfield', 'neural_helix_keys': ['suomi', 'cheeta', 'colphne'], 'status': {'defense_bonus': 3, 'health_bonus': 3, 'attack_bonus': 3}}, {'id': 'andoris', 'neural_helix_keys': ['suomi', 'sabrina'], 'status': {'defense_bonus': 3, 'health_bonus': 3}}, {'id': 'ullrid', 'neural_helix_keys': ['belka', 'faye', 'vepley'], 'status': {'crit_damage': 3, 'crit_rate': 3, 'attack_bonus': 3}}, {'id': 'yoohee', 'neural_helix_keys': ['ullrid', 'vepley', 'faye', 'tololo'], 'status': {'crit_damage': 3, 'crit_rate': 3, 'attack_bonus': 3}}, {'id': 'zhaohui', 'neural_helix_keys': ['belka', 'ullrid', 'vepley', 'nagant'], 'status': {'crit_damage': 3, 'crit_rate': 3, 'attack_bonus': 3}}, {'id': 'qiuhua', 'neural_helix_keys': ['ullrid', 'belka', 'krolik'], 'status': {'crit_damage': 3, 'crit_rate': 3, 'attack_bonus': 3}}, {'id': 'cheeta', 'neural_helix_keys': ['centaureissi', 'ksenia', 'colphne'], 'status': {'crit_damage': 3, 'crit_rate': 3, 'attack_bonus': 3}}, {'id': 'krolik', 'neural_helix_keys': ['ullrid', 'belka', 'vepley'], 'status': {'crit_damage': 3, 'crit_rate': 3, 'attack_bonus': 3}}, {'id': 'colphne', 'neural_helix_keys': ['cheeta'], 'status': {'crit_damage': 3, 'crit_rate': 3, 'attack_bonus': 3}}, {'id': 'ksenia', 'neural_helix_keys': ['centaureissi', 'cheeta', 'colphne'], 'status': {'crit_damage': 3, 'crit_rate': 3, 'attack_bonus': 3}}, {'id': 'klukai', 'neural_helix_keys': ['belka', 'tololo', 'peritya', 'ullrid', 'dushevnaya', 'vepley', 'sharkry'], 'status': {'crit_damage': 3, 'crit_rate': 3, 'attack_bonus': 3}}, {'id': 'tololo', 'neural_helix_keys': ['ullrid', 'belka', 'vepley', 'daiyan', 'sharkry', 'nagant'], 'status': {'crit_damage': 3, 'crit_rate': 3, 'attack_bonus': 3}}, {'id': 'papasha', 'neural_helix_keys': [], 'status': {'crit_damage': 3, 'crit_rate': 3, 'attack_bonus': 3}}, {'id': 'peri', 'neural_helix_keys': ['tololo', 'sharkry', 'krolik'], 'status': {'crit_damage': 3, 'health_bonus': 3, 'attack_bonus': 3}}, {'id': 'peritya', 'neural_helix_keys': ['qiongjiu', 'ullrid', 'vepley', 'nagant'], 'status': {'crit_damage': 3, 'crit_rate': 3, 'attack_bonus': 3}}, {'id': 'faye', 'neural_helix_keys': ['belka', 'ullrid', 'vepley', 'littara'], 'status': {'crit_damage': 3, 'crit_rate': 3, 'attack_bonus': 3}}]\n"
     ]
    }
   ],
   "source": [
    "KEY = \"id\"\n",
    "raw = read_doll_jsonl(I)\n",
    "\n",
    "class ExitLoop(Exception): pass\n",
    "\n",
    "result = []\n",
    "try:\n",
    "    for j in raw:\n",
    "        l = {}\n",
    "        while True:\n",
    "            i = input(f\"{id2name[j['id']]} 공 체 방 치확 치피 >>\")\n",
    "            if i == \"ex\":\n",
    "                raise ExitLoop\n",
    "            if i.isdigit():\n",
    "                break\n",
    "        i = int(i)\n",
    "        while i >= 1:\n",
    "            n = i % 10\n",
    "            \n",
    "            if n == 1: l[\"attack_bonus\"] = 3\n",
    "            if n == 2: l[\"health_bonus\"] = 3\n",
    "            if n == 3: l[\"defense_bonus\"] = 3\n",
    "            if n == 4: l[\"crit_rate\"] = 3\n",
    "            if n == 5: l[\"crit_damage\"] = 3\n",
    "            \n",
    "\n",
    "            i //= 10\n",
    "        res = {**j, \"status\": l}\n",
    "        print(res)\n",
    "        \n",
    "        result.append(res)\n",
    "        # while True:\n",
    "        #     i = input(f\"(Current: {j[KEY]}) Input: \")\n",
    "        #     if i == \"ㅂ\":\n",
    "        #         result.append({\n",
    "        #             \"id\": j[KEY],\n",
    "        #             \"neural_helix_keys\": l\n",
    "        #         })\n",
    "        #         print(f\"{j[KEY]} complete.\")\n",
    "        #         break\n",
    "        #     if i == \"ex\":\n",
    "        #         raise ExitLoop\n",
    "        #     l.append(i)\n",
    "except ExitLoop:\n",
    "    print(\"Exit..\")\n",
    "\n",
    "print(result)"
   ]
  },
  {
   "cell_type": "code",
   "execution_count": 29,
   "metadata": {},
   "outputs": [],
   "source": [
    "write_doll_json2stringify(result, O)"
   ]
  }
 ],
 "metadata": {
  "kernelspec": {
   "display_name": "ollama-agent",
   "language": "python",
   "name": "python3"
  },
  "language_info": {
   "codemirror_mode": {
    "name": "ipython",
    "version": 3
   },
   "file_extension": ".py",
   "mimetype": "text/x-python",
   "name": "python",
   "nbconvert_exporter": "python",
   "pygments_lexer": "ipython3",
   "version": "3.9.21"
  }
 },
 "nbformat": 4,
 "nbformat_minor": 2
}
